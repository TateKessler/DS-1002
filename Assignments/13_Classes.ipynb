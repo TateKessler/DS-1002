{
  "nbformat": 4,
  "nbformat_minor": 0,
  "metadata": {
    "colab": {
      "provenance": [],
      "include_colab_link": true
    },
    "kernelspec": {
      "name": "python3",
      "display_name": "Python 3"
    },
    "language_info": {
      "name": "python"
    }
  },
  "cells": [
    {
      "cell_type": "markdown",
      "metadata": {
        "id": "view-in-github",
        "colab_type": "text"
      },
      "source": [
        "<a href=\"https://colab.research.google.com/github/TateKessler/DS-1002/blob/main/Assignments/13_Classes.ipynb\" target=\"_parent\"><img src=\"https://colab.research.google.com/assets/colab-badge.svg\" alt=\"Open In Colab\"/></a>"
      ]
    },
    {
      "cell_type": "markdown",
      "source": [
        "## Assignment:  Classes\n",
        "### Due Sunday 28 April at 10pm"
      ],
      "metadata": {
        "id": "5Vy93BSp9Tum"
      }
    },
    {
      "cell_type": "markdown",
      "source": [
        "1.  Define a class called `Person` that has attributes `lastName`, `firstName`, `mother`, and `father`.  Both `mother` and `father` should have default value `unknown`.\n",
        "\n",
        "  Include a `__str__()` function that returns a string of the form '`firstName` `lastName`'.\n",
        "\n",
        "  Include a `__repr__()` function that returns a string that can be evaluated to recreate the `Person` object.\n",
        "\n"
      ],
      "metadata": {
        "id": "vcj5XQAI9Wsb"
      }
    },
    {
      "cell_type": "code",
      "source": [
        "class Person:\n",
        "    def __init__(self, lastName, firstName, mother='unknown', father='unknown'):\n",
        "        self.lastName = lastName\n",
        "        self.firstName = firstName\n",
        "        self.mother = mother\n",
        "        self.father = father\n",
        "\n",
        "    def __str__(self):\n",
        "        return f'{self.firstName} {self.lastName}'\n",
        "\n",
        "    def __repr__(self):\n",
        "        return f\"Person('{self.lastName}', '{self.firstName}', '{self.mother}', '{self.father}')\""
      ],
      "metadata": {
        "id": "mjHDwHv3EpVe"
      },
      "execution_count": 1,
      "outputs": []
    },
    {
      "cell_type": "markdown",
      "source": [
        "Create a person (i.e., a `Person` object) called `p` with unknown parents.  (You will need to give your person a first and last name.) Check the type of `p`.  Include all inputs and outputs."
      ],
      "metadata": {
        "id": "-ppMsEIVHINl"
      }
    },
    {
      "cell_type": "code",
      "source": [
        "p = Person('James', 'Robinson')\n",
        "print(\"Type of p:\", type(p))"
      ],
      "metadata": {
        "id": "5bwid_6gHIBH",
        "outputId": "685f6fc9-24dd-40bb-8df7-05e2c1f12914",
        "colab": {
          "base_uri": "https://localhost:8080/"
        }
      },
      "execution_count": 2,
      "outputs": [
        {
          "output_type": "stream",
          "name": "stdout",
          "text": [
            "Type of p: <class '__main__.Person'>\n"
          ]
        }
      ]
    },
    {
      "cell_type": "markdown",
      "source": [
        "Verify that your `__str__` and `__repr__` functions are doing what they are supposed to do.  Include all inputs and outputs."
      ],
      "metadata": {
        "id": "Z6zlUC3xRtal"
      }
    },
    {
      "cell_type": "code",
      "source": [
        "print(\"__str__() result:\", str(p))\n",
        "print(\"__repr__() result:\", repr(p))"
      ],
      "metadata": {
        "id": "jZO0dBQYRs-K",
        "outputId": "9062b57a-bfe9-44c7-966f-e33ed242107d",
        "colab": {
          "base_uri": "https://localhost:8080/"
        }
      },
      "execution_count": 3,
      "outputs": [
        {
          "output_type": "stream",
          "name": "stdout",
          "text": [
            "__str__() result: Robinson James\n",
            "__repr__() result: Person('James', 'Robinson', 'unknown', 'unknown')\n"
          ]
        }
      ]
    },
    {
      "cell_type": "markdown",
      "source": [
        "Suppose the mother of `p` has been found and is named Taylor Swift.  Create a new person named Taylor Swift, and make her the mother of `p`:\n",
        "\n",
        "```\n",
        "> p.mother\n",
        "'Taylor Swift'\n",
        "```"
      ],
      "metadata": {
        "id": "1mOAThQiHzoQ"
      }
    },
    {
      "cell_type": "code",
      "source": [
        "class Person:\n",
        "    def __init__(self, lastName, firstName, mother='unknown', father='unknown'):\n",
        "        self.lastName = lastName\n",
        "        self.firstName = firstName\n",
        "        self.mother = mother\n",
        "        self.father = father\n",
        "\n",
        "    def __str__(self):\n",
        "        return f'{self.firstName} {self.lastName}'\n",
        "\n",
        "    def __repr__(self):\n",
        "        return f\"Person('{self.lastName}', '{self.firstName}', '{self.mother}', '{self.father}')\"\n",
        "\n",
        "taylor_swift = Person('Swift', 'Taylor')\n",
        "\n",
        "p = Person('chuck', 'buck', mother=taylor_swift)\n",
        "\n",
        "print(\"p.mother:\", p.mother)"
      ],
      "metadata": {
        "id": "NYbDOorpHymz",
        "outputId": "b2d0b706-ada3-4957-b835-43137b83bdd7",
        "colab": {
          "base_uri": "https://localhost:8080/"
        }
      },
      "execution_count": 4,
      "outputs": [
        {
          "output_type": "stream",
          "name": "stdout",
          "text": [
            "p.mother: Taylor Swift\n"
          ]
        }
      ]
    },
    {
      "cell_type": "markdown",
      "source": [
        "2.  Add some methods to your class.  Start by copying the `class` definition you already wrote.  Then, inside the `class` definition:\n",
        "\n",
        "  (a) Write a method called `unknownParent()` which returns `True` if any parent is 'unknown' and `False` otherwise.\n",
        "\n",
        "  (b) Write a method called `maternalGrandmother()` which returns the mother's mother.  If the mother is unknown, it should return 'unknown'.\n",
        "\n"
      ],
      "metadata": {
        "id": "1g1pcrmFHzGh"
      }
    },
    {
      "cell_type": "code",
      "source": [
        "class Person:\n",
        "    def __init__(self, lastName, firstName, mother='unknown', father='unknown'):\n",
        "        self.lastName = lastName\n",
        "        self.firstName = firstName\n",
        "        self.mother = mother\n",
        "        self.father = father\n",
        "\n",
        "    def __str__(self):\n",
        "        return f'{self.firstName} {self.lastName}'\n",
        "\n",
        "    def __repr__(self):\n",
        "        return f\"Person('{self.lastName}', '{self.firstName}', '{self.mother}', '{self.father}')\"\n",
        "\n",
        "    def unknownParent(self):\n",
        "        return self.mother == 'unknown' or self.father == 'unknown'\n",
        "\n",
        "    def maternalGrandmother(self):\n",
        "        if self.mother == 'unknown':\n",
        "            return 'unknown'\n",
        "        elif self.mother == None:\n",
        "            return None\n",
        "        else:\n",
        "            return self.mother.mother\n",
        "\n",
        "p = Person('chuck', 'buck')\n",
        "\n",
        "print(\"Is any parent unknown for p?\", p.unknownParent())\n",
        "\n",
        "taylor_swift = Person('Swift', 'Taylor')\n",
        "\n",
        "p.mother = taylor_swift\n",
        "\n",
        "print(\"Maternal grandmother of p:\", p.maternalGrandmother())"
      ],
      "metadata": {
        "id": "7mIxJGwwKTpv",
        "outputId": "9252abf1-5e6d-480e-bd58-03fa7300b6cb",
        "colab": {
          "base_uri": "https://localhost:8080/"
        }
      },
      "execution_count": 5,
      "outputs": [
        {
          "output_type": "stream",
          "name": "stdout",
          "text": [
            "Is any parent unknown for p? True\n",
            "Maternal grandmother of p: unknown\n"
          ]
        }
      ]
    },
    {
      "cell_type": "markdown",
      "source": [
        "Create enough `Person` objects to test whether your methods are working properly.  Show all your inputs and outputs.  It is up to you to demonstrate that you have thoroughly tested the code.  You may use additional code and/or text chunks if it helps."
      ],
      "metadata": {
        "id": "l9-4gxd8FxAQ"
      }
    },
    {
      "cell_type": "code",
      "source": [
        "mother = Person('Swift', 'Taylor')\n",
        "father = Person('Swift', 'Travis')\n",
        "\n",
        "\n",
        "child = Person('Swift', 'Jon', mother=mother, father=father)\n",
        "\n",
        "\n",
        "print(\"Is any parent unknown for Jon?\", child.unknownParent())\n",
        "\n",
        "print(\"Maternal grandmother of Jon:\", child.maternalGrandmother())\n",
        ""
      ],
      "metadata": {
        "id": "gX1qpcKzFwoZ",
        "outputId": "f8977770-d5cc-4a68-fb6c-f333c2649fda",
        "colab": {
          "base_uri": "https://localhost:8080/"
        }
      },
      "execution_count": 6,
      "outputs": [
        {
          "output_type": "stream",
          "name": "stdout",
          "text": [
            "Is any parent unknown for Jon? False\n",
            "Maternal grandmother of Jon: unknown\n"
          ]
        }
      ]
    },
    {
      "cell_type": "code",
      "source": [
        "taylor_swift = Person('Swift', 'Taylor')\n",
        "\n",
        "\n",
        "Eliza = Person('Kent', 'Jammie', mother=taylor_swift)\n",
        "Jenna = Person('Kent', 'Jonah', mother=Eliza)\n",
        "\n",
        "\n",
        "print(\"Is any parent unknown for Jamie?\", Eliza.unknownParent())\n",
        "print(\"Is any parent unknown for Jonah?\", Jenna.unknownParent())\n",
        "\n",
        "print(\"Maternal grandmother of Jamie:\", Eliza.maternalGrandmother())\n",
        "print(\"Maternal grandmother of Jonah:\", Jenna.maternalGrandmother())"
      ],
      "metadata": {
        "id": "gHz2OdRCGD9-",
        "outputId": "539e6b79-1c9b-43b7-dd8f-73a57dd4909b",
        "colab": {
          "base_uri": "https://localhost:8080/"
        }
      },
      "execution_count": 7,
      "outputs": [
        {
          "output_type": "stream",
          "name": "stdout",
          "text": [
            "Is any parent unknown for Jamie? True\n",
            "Is any parent unknown for Jonah? True\n",
            "Maternal grandmother of Jamie: unknown\n",
            "Maternal grandmother of Jonah: Taylor Swift\n"
          ]
        }
      ]
    },
    {
      "cell_type": "code",
      "source": [
        "taylor_swift = Person('Swift', 'Taylor')\n",
        "\n",
        "chuck = Person('James', 'Robinson', mother=taylor_swift)\n",
        "Joe = Person('Luke', 'john', mother=taylor_swift)\n",
        "unknown_parent = Person('Joe', 'Unknown')\n",
        "\n",
        "print(\"Is any parent unknown for James?\", chuck.unknownParent())\n",
        "print(\"Is any parent unknown for Luke?\", Joe.unknownParent())\n",
        "print(\"Is any parent unknown for Joe?\", unknown_parent.unknownParent())\n",
        "\n",
        "print(\"Maternal grandmother of James:\", chuck.maternalGrandmother())\n",
        "print(\"Maternal grandmother of Luke:\", Joe.maternalGrandmother())\n",
        "print(\"Maternal grandmother of Unknown:\", unknown_parent.maternalGrandmother())"
      ],
      "metadata": {
        "id": "OetyMq1ZG26G",
        "outputId": "23069b8a-933a-4973-c05c-037df7b75fa2",
        "colab": {
          "base_uri": "https://localhost:8080/"
        }
      },
      "execution_count": 8,
      "outputs": [
        {
          "output_type": "stream",
          "name": "stdout",
          "text": [
            "Is any parent unknown for James? True\n",
            "Is any parent unknown for Luke? True\n",
            "Is any parent unknown for Joe? True\n",
            "Maternal grandmother of James: unknown\n",
            "Maternal grandmother of Luke: unknown\n",
            "Maternal grandmother of Unknown: unknown\n"
          ]
        }
      ]
    }
  ]
}