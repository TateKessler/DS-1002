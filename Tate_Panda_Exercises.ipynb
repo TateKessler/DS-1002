{
  "nbformat": 4,
  "nbformat_minor": 0,
  "metadata": {
    "colab": {
      "provenance": [],
      "authorship_tag": "ABX9TyNBkDlLmas3M/1UAEXBugCN",
      "include_colab_link": true
    },
    "kernelspec": {
      "name": "python3",
      "display_name": "Python 3"
    },
    "language_info": {
      "name": "python"
    }
  },
  "cells": [
    {
      "cell_type": "markdown",
      "metadata": {
        "id": "view-in-github",
        "colab_type": "text"
      },
      "source": [
        "<a href=\"https://colab.research.google.com/github/TateKessler/DS-1002/blob/main/Tate_Panda_Exercises.ipynb\" target=\"_parent\"><img src=\"https://colab.research.google.com/assets/colab-badge.svg\" alt=\"Open In Colab\"/></a>"
      ]
    },
    {
      "cell_type": "code",
      "execution_count": null,
      "metadata": {
        "colab": {
          "base_uri": "https://localhost:8080/"
        },
        "id": "2yE-PfikCWQS",
        "outputId": "d1a77097-17eb-486c-e982-6843339f5b5c"
      },
      "outputs": [
        {
          "output_type": "execute_result",
          "data": {
            "text/plain": [
              "0    98\n",
              "1    24\n",
              "2    46\n",
              "3    87\n",
              "4    33\n",
              "dtype: int64"
            ]
          },
          "metadata": {},
          "execution_count": 2
        }
      ],
      "source": [
        "import pandas as pd\n",
        "\n",
        "# Given list\n",
        "list_values = [98, 24, 46, 87, 33]\n",
        "\n",
        "# Convert list to a pandas Series\n",
        "series = pd.Series(list_values)\n",
        "series\n",
        "\n"
      ]
    },
    {
      "cell_type": "code",
      "source": [
        "import pandas as pd\n",
        "\n",
        "# Define the dictionary with names, ages, and careers\n",
        "people_dict = {\n",
        "    \"Names\": [\"Alice\", \"Bob\", \"Charlie\", \"Diana\"],\n",
        "    \"Ages\": [30, 25, 35, 28],\n",
        "    \"Careers\": [\"Engineer\", \"Designer\", \"Artist\", \"Doctor\"]\n",
        "}\n",
        "\n",
        "# Convert the dictionary to a pandas DataFrame\n",
        "df = pd.DataFrame(people_dict)\n",
        "\n",
        "# Print the DataFrame\n",
        "print(df)\n"
      ],
      "metadata": {
        "colab": {
          "base_uri": "https://localhost:8080/"
        },
        "id": "GZvkHv64Lpur",
        "outputId": "d2de439b-fcb5-4427-ec22-5da1b9aa5524"
      },
      "execution_count": null,
      "outputs": [
        {
          "output_type": "stream",
          "name": "stdout",
          "text": [
            "     Names  Ages   Careers\n",
            "0    Alice    30  Engineer\n",
            "1      Bob    25  Designer\n",
            "2  Charlie    35    Artist\n",
            "3    Diana    28    Doctor\n"
          ]
        }
      ]
    },
    {
      "cell_type": "code",
      "source": [
        "# Name the index of the DataFrame\n",
        "df.index.name = 'participant_id'\n",
        "\n",
        "# Print the updated DataFrame\n",
        "print(df)\n"
      ],
      "metadata": {
        "colab": {
          "base_uri": "https://localhost:8080/"
        },
        "id": "sfxzv3lQMQxT",
        "outputId": "3b2f5baa-c509-48ad-d619-bddd516448bd"
      },
      "execution_count": null,
      "outputs": [
        {
          "output_type": "stream",
          "name": "stdout",
          "text": [
            "                  Names  Ages   Careers\n",
            "participant_id                         \n",
            "0                 Alice    30  Engineer\n",
            "1                   Bob    25  Designer\n",
            "2               Charlie    35    Artist\n",
            "3                 Diana    28    Doctor\n"
          ]
        }
      ]
    },
    {
      "cell_type": "code",
      "source": [
        "print(df.dtypes)"
      ],
      "metadata": {
        "colab": {
          "base_uri": "https://localhost:8080/"
        },
        "id": "DbFmHB8MMary",
        "outputId": "2caed2e4-9bb0-4b7d-952f-1550e6901ae4"
      },
      "execution_count": null,
      "outputs": [
        {
          "output_type": "stream",
          "name": "stdout",
          "text": [
            "Names      object\n",
            "Ages        int64\n",
            "Careers    object\n",
            "dtype: object\n"
          ]
        }
      ]
    },
    {
      "cell_type": "code",
      "source": [
        "df['Names']"
      ],
      "metadata": {
        "colab": {
          "base_uri": "https://localhost:8080/"
        },
        "id": "MuiyA7FIMlPz",
        "outputId": "b8412118-39db-4543-e060-dcda1e751a58"
      },
      "execution_count": null,
      "outputs": [
        {
          "output_type": "execute_result",
          "data": {
            "text/plain": [
              "participant_id\n",
              "0      Alice\n",
              "1        Bob\n",
              "2    Charlie\n",
              "3      Diana\n",
              "Name: Names, dtype: object"
            ]
          },
          "metadata": {},
          "execution_count": 8
        }
      ]
    },
    {
      "cell_type": "code",
      "source": [
        "Names_df = df[['Names']]\n",
        "print(Names_df)"
      ],
      "metadata": {
        "colab": {
          "base_uri": "https://localhost:8080/"
        },
        "id": "xr5uK-T4M17Q",
        "outputId": "bfc2eb76-9f94-45c3-cc17-c114cea2c0a6"
      },
      "execution_count": null,
      "outputs": [
        {
          "output_type": "stream",
          "name": "stdout",
          "text": [
            "                  Names\n",
            "participant_id         \n",
            "0                 Alice\n",
            "1                   Bob\n",
            "2               Charlie\n",
            "3                 Diana\n"
          ]
        }
      ]
    },
    {
      "cell_type": "code",
      "source": [
        "third_career = df['Careers'].iloc[2]\n",
        "print(third_career)"
      ],
      "metadata": {
        "colab": {
          "base_uri": "https://localhost:8080/"
        },
        "id": "CFMmjXtWNHs9",
        "outputId": "9e819c7f-2a30-468f-dd39-403ef6609eb5"
      },
      "execution_count": null,
      "outputs": [
        {
          "output_type": "stream",
          "name": "stdout",
          "text": [
            "Artist\n"
          ]
        }
      ]
    },
    {
      "cell_type": "code",
      "source": [
        "import seaborn as sns\n",
        "iris = sns.load_dataset('iris')"
      ],
      "metadata": {
        "id": "3sP65TAoNbfw"
      },
      "execution_count": null,
      "outputs": []
    },
    {
      "cell_type": "code",
      "source": [
        "correlation = iris['sepal_length'].corr(iris['sepal_width'])\n",
        "print(\"Correlation between sepal_length and sepal_width:\", correlation)"
      ],
      "metadata": {
        "colab": {
          "base_uri": "https://localhost:8080/"
        },
        "id": "rFM2js9FNk86",
        "outputId": "57726b53-4340-4559-82b2-bbb731af6017"
      },
      "execution_count": null,
      "outputs": [
        {
          "output_type": "stream",
          "name": "stdout",
          "text": [
            "Correlation between sepal_length and sepal_width: -0.11756978413300208\n"
          ]
        }
      ]
    },
    {
      "cell_type": "code",
      "source": [
        "correlation_species = iris.groupby ('species')[['sepal_length', 'sepal_width']].corr().iloc[0::2, -1]\n",
        "print(\"Correlation between sepal_length and sepal width for each species:\")\n",
        "print (correlation_species)"
      ],
      "metadata": {
        "colab": {
          "base_uri": "https://localhost:8080/"
        },
        "id": "xL5aI8oMOIOp",
        "outputId": "5fb5995c-f217-4594-b0f8-ba13a336208e"
      },
      "execution_count": null,
      "outputs": [
        {
          "output_type": "stream",
          "name": "stdout",
          "text": [
            "Correlation between sepal_length and sepal width for each species:\n",
            "species                 \n",
            "setosa      sepal_length    0.742547\n",
            "versicolor  sepal_length    0.525911\n",
            "virginica   sepal_length    0.457228\n",
            "Name: sepal_width, dtype: float64\n"
          ]
        }
      ]
    },
    {
      "cell_type": "code",
      "source": [
        "grouped_species = iris.groupby('species')\n",
        "for species, data in grouped_species:\n",
        "    correlation_options = data[['sepal_length', 'sepal_width', 'petal_length', 'petal_width']].corr()\n",
        "    min_correlation = correlation_options.min().min()\n",
        "    variables_with_min_correlation = correlation_options.stack()[\n",
        "        correlation_options.stack() == min_correlation].index.tolist()\n",
        "\n",
        "    print(f\"species '{species}':\")\n",
        "    print(f\"The variables with the most negative correlation are: {variables_with_min_correlation}, Correlation: {min_correlation}/n\")"
      ],
      "metadata": {
        "colab": {
          "base_uri": "https://localhost:8080/"
        },
        "id": "JRcS3MM2PHJF",
        "outputId": "587f6db7-e9a6-49b8-b8ff-3ca2e242506f"
      },
      "execution_count": null,
      "outputs": [
        {
          "output_type": "stream",
          "name": "stdout",
          "text": [
            "species 'setosa':\n",
            "The variables with the most negative correlation are: [('sepal_width', 'petal_length'), ('petal_length', 'sepal_width')], Correlation: 0.1776999667822706/n\n",
            "species 'versicolor':\n",
            "The variables with the most negative correlation are: [('sepal_length', 'sepal_width'), ('sepal_width', 'sepal_length')], Correlation: 0.5259107172828247/n\n",
            "species 'virginica':\n",
            "The variables with the most negative correlation are: [('sepal_length', 'petal_width'), ('petal_width', 'sepal_length')], Correlation: 0.2811077091573193/n\n"
          ]
        }
      ]
    },
    {
      "cell_type": "code",
      "source": [
        "import matplotlib.pyplot as plt\n",
        "species = 'setosa'\n",
        "species_data = iris[iris['species'] == species]\n",
        "plt.figure(figsize=(9,6))\n",
        "sns.scatterplot(data=species_data, x='sepal_length', y='petal_width')\n",
        "plt.xlabel(\"Sepal Lenght\")\n",
        "plt.ylabel(\"Petal Width\")\n",
        "plt.grid(True)\n",
        "plt.show()"
      ],
      "metadata": {
        "colab": {
          "base_uri": "https://localhost:8080/",
          "height": 542
        },
        "id": "h6umxRTMQ55G",
        "outputId": "bdd09fb1-0af1-4aec-c6ae-fa392fecd080"
      },
      "execution_count": null,
      "outputs": [
        {
          "output_type": "display_data",
          "data": {
            "text/plain": [
              "<Figure size 900x600 with 1 Axes>"
            ],
            "image/png": "[encoded data removed]"
          },
          "metadata": {}
        }
      ]
    }
  ]
}