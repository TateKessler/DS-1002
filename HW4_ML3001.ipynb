{
  "nbformat": 4,
  "nbformat_minor": 0,
  "metadata": {
    "colab": {
      "provenance": [],
      "authorship_tag": "ABX9TyMTWXHsU+0ZtpD2EABBJxd/",
      "include_colab_link": true
    },
    "kernelspec": {
      "name": "python3",
      "display_name": "Python 3"
    },
    "language_info": {
      "name": "python"
    }
  },
  "cells": [
    {
      "cell_type": "markdown",
      "metadata": {
        "id": "view-in-github",
        "colab_type": "text"
      },
      "source": [
        "<a href=\"https://colab.research.google.com/github/TateKessler/DS-1002/blob/main/HW4_ML3001.ipynb\" target=\"_parent\"><img src=\"https://colab.research.google.com/assets/colab-badge.svg\" alt=\"Open In Colab\"/></a>"
      ]
    },
    {
      "cell_type": "code",
      "execution_count": 8,
      "metadata": {
        "colab": {
          "base_uri": "https://localhost:8080/"
        },
        "id": "ZY4BFUt4p6OF",
        "outputId": "81afe54c-44c5-49aa-d5a1-3c8d040d028e"
      },
      "outputs": [
        {
          "output_type": "stream",
          "name": "stdout",
          "text": [
            "BinaryClassifier(\n",
            "  (net): Sequential(\n",
            "    (0): Linear(in_features=2, out_features=16, bias=True)\n",
            "    (1): ReLU()\n",
            "    (2): Linear(in_features=16, out_features=8, bias=True)\n",
            "    (3): ReLU()\n",
            "    (4): Linear(in_features=8, out_features=1, bias=True)\n",
            "    (5): Sigmoid()\n",
            "  )\n",
            ")\n"
          ]
        }
      ],
      "source": [
        "# Step 1.1: Load the dataset\n",
        "import pandas as pd\n",
        "import json\n",
        "\n",
        "# Open JSONL file\n",
        "file_path = \"/content/HW3 (1).jsonl\"\n",
        "data = []\n",
        "\n",
        "with open(file_path, 'r') as f:\n",
        "    for line in f:\n",
        "        data.append(json.loads(line))\n",
        "\n",
        "df = pd.DataFrame(data)\n",
        "\n",
        "# Step 1.2: Prepare features and labels\n",
        "from sklearn.preprocessing import StandardScaler\n",
        "import torch\n",
        "import torch.nn as nn\n",
        "\n",
        "X = df[['x', 'y']].values\n",
        "y = df['l'].values\n",
        "\n",
        "scaler = StandardScaler()\n",
        "X_scaled = scaler.fit_transform(X)\n",
        "\n",
        "X_tensor = torch.tensor(X_scaled, dtype=torch.float32)\n",
        "y_tensor = torch.tensor(y.reshape(-1, 1), dtype=torch.float32)\n",
        "\n",
        "# Step 1.3: Define the binary DNN architecture\n",
        "class BinaryClassifier(nn.Module):\n",
        "    def __init__(self):\n",
        "        super(BinaryClassifier, self).__init__()\n",
        "        self.net = nn.Sequential(\n",
        "            nn.Linear(2, 16),\n",
        "            nn.ReLU(),\n",
        "            nn.Linear(16, 8),\n",
        "            nn.ReLU(),\n",
        "            nn.Linear(8, 1),\n",
        "            nn.Sigmoid()\n",
        "        )\n",
        "\n",
        "    def forward(self, x):\n",
        "        return self.net(x)\n",
        "\n",
        "# Step 1.4: Instantiate and print the model\n",
        "model = BinaryClassifier()\n",
        "print(model)\n"
      ]
    },
    {
      "cell_type": "code",
      "source": [
        "from sklearn.model_selection import KFold\n",
        "import torch.optim as optim\n",
        "import numpy as np\n",
        "\n",
        "# K-Fold Cross Validation Function\n",
        "def k_fold_train(model_class, X_tensor, y_tensor, k=5, epochs=100, lr=0.01):\n",
        "    kf = KFold(n_splits=k, shuffle=True, random_state=42)\n",
        "    criterion = nn.BCELoss()\n",
        "    val_losses = []\n",
        "\n",
        "    for fold, (train_idx, val_idx) in enumerate(kf.split(X_tensor)):\n",
        "        # Create a new model for each fold\n",
        "        model = model_class()\n",
        "        optimizer = optim.Adam(model.parameters(), lr=lr)\n",
        "\n",
        "        X_train, y_train = X_tensor[train_idx], y_tensor[train_idx]\n",
        "        X_val, y_val = X_tensor[val_idx], y_tensor[val_idx]\n",
        "\n",
        "        # Training loop\n",
        "        for epoch in range(epochs):\n",
        "            model.train()\n",
        "            optimizer.zero_grad()\n",
        "            y_pred = model(X_train)\n",
        "            loss = criterion(y_pred, y_train)\n",
        "            loss.backward()\n",
        "            optimizer.step()\n",
        "\n",
        "        # Validation loss\n",
        "        model.eval()\n",
        "        with torch.no_grad():\n",
        "            val_pred = model(X_val)\n",
        "            val_loss = criterion(val_pred, y_val).item()\n",
        "            val_losses.append(val_loss)\n",
        "            print(f\"Fold {fold+1} Validation Loss: {val_loss:.4f}\")\n",
        "\n",
        "    avg_loss = np.mean(val_losses)\n",
        "    print(f\"\\nAverage Validation Loss over {k} folds: {avg_loss:.4f}\")\n",
        "    return val_losses\n",
        "\n",
        "# Run 5-fold validation on your DNN\n",
        "val_losses = k_fold_train(BinaryClassifier, X_tensor, y_tensor)\n",
        "\n"
      ],
      "metadata": {
        "colab": {
          "base_uri": "https://localhost:8080/"
        },
        "id": "oiK8ncPgssta",
        "outputId": "9a759976-3cd5-4e1d-d01c-e17549d606ab"
      },
      "execution_count": 11,
      "outputs": [
        {
          "output_type": "stream",
          "name": "stdout",
          "text": [
            "Fold 1 Validation Loss: 0.2652\n",
            "Fold 2 Validation Loss: 0.2986\n",
            "Fold 3 Validation Loss: 0.3069\n",
            "Fold 4 Validation Loss: 0.2541\n",
            "Fold 5 Validation Loss: 0.2412\n",
            "\n",
            "Average Validation Loss over 5 folds: 0.2732\n"
          ]
        }
      ]
    },
    {
      "cell_type": "code",
      "source": [
        "import matplotlib.pyplot as plt\n",
        "\n",
        "# Train on full dataset and track loss over epochs\n",
        "def train_and_plot_loss(model_class, X_tensor, y_tensor, epochs=100, lr=0.01):\n",
        "    model = model_class()\n",
        "    optimizer = optim.Adam(model.parameters(), lr=lr)\n",
        "    criterion = nn.BCELoss()\n",
        "    train_losses = []\n",
        "\n",
        "    for epoch in range(epochs):\n",
        "        model.train()\n",
        "        optimizer.zero_grad()\n",
        "        y_pred = model(X_tensor)\n",
        "        loss = criterion(y_pred, y_tensor)\n",
        "        train_losses.append(loss.item())\n",
        "        loss.backward()\n",
        "        optimizer.step()\n",
        "\n",
        "    # Plot the training loss curve\n",
        "    plt.figure(figsize=(8, 5))\n",
        "    plt.plot(train_losses, label='Training Loss')\n",
        "    plt.xlabel(\"Epoch\")\n",
        "    plt.ylabel(\"Binary Cross Entropy Loss\")\n",
        "    plt.title(\"Training Loss Curve Over Epochs\")\n",
        "    plt.legend()\n",
        "    plt.grid(True)\n",
        "    plt.show()\n",
        "\n",
        "    return model\n",
        "\n",
        "# Call the function\n",
        "trained_model = train_and_plot_loss(BinaryClassifier, X_tensor, y_tensor)\n"
      ],
      "metadata": {
        "colab": {
          "base_uri": "https://localhost:8080/",
          "height": 487
        },
        "id": "vSdVJWIHtBeg",
        "outputId": "7c305ea5-3032-4183-84da-ee3facbab2e4"
      },
      "execution_count": 12,
      "outputs": [
        {
          "output_type": "display_data",
          "data": {
            "text/plain": [
              "<Figure size 800x500 with 1 Axes>"
            ],
            "image/png": "[encoded data removed]"
          },
          "metadata": {}
        }
      ]
    },
    {
      "cell_type": "markdown",
      "source": [
        "# The loss curve shows a steady decrease over the training epochs, which indicates that the model is learning effectively. As the number of epochs increases, the loss flattens out, suggesting that the model is starting to converge. There are no major spikes or increases in the loss, which means the training process is stable and there are no signs of overfitting."
      ],
      "metadata": {
        "id": "Mu1Kg2JNtPlc"
      }
    },
    {
      "cell_type": "code",
      "source": [
        "# Variant A: Tanh activation + wider network\n",
        "class VariantA(nn.Module):\n",
        "    def __init__(self):\n",
        "        super(VariantA, self).__init__()\n",
        "        self.net = nn.Sequential(\n",
        "            nn.Linear(2, 32),\n",
        "            nn.Tanh(),\n",
        "            nn.Linear(32, 16),\n",
        "            nn.Tanh(),\n",
        "            nn.Linear(16, 1),\n",
        "            nn.Sigmoid()\n",
        "        )\n",
        "    def forward(self, x):\n",
        "        return self.net(x)\n",
        "\n",
        "# Variant B: ReLU activation + SGD optimizer + lower learning rate\n",
        "class VariantB(nn.Module):\n",
        "    def __init__(self):\n",
        "        super(VariantB, self).__init__()\n",
        "        self.net = nn.Sequential(\n",
        "            nn.Linear(2, 16),\n",
        "            nn.ReLU(),\n",
        "            nn.Linear(16, 8),\n",
        "            nn.ReLU(),\n",
        "            nn.Linear(8, 1),\n",
        "            nn.Sigmoid()\n",
        "        )\n",
        "    def forward(self, x):\n",
        "        return self.net(x)\n",
        "\n",
        "# Reusable k-fold trainer with optimizer override\n",
        "def k_fold_train_variant(model_class, X_tensor, y_tensor, optimizer_fn=optim.Adam, lr=0.01, k=5, epochs=100):\n",
        "    kf = KFold(n_splits=k, shuffle=True, random_state=42)\n",
        "    criterion = nn.BCELoss()\n",
        "    val_losses = []\n",
        "\n",
        "    for fold, (train_idx, val_idx) in enumerate(kf.split(X_tensor)):\n",
        "        model = model_class()\n",
        "        optimizer = optimizer_fn(model.parameters(), lr=lr)\n",
        "\n",
        "        X_train, y_train = X_tensor[train_idx], y_tensor[train_idx]\n",
        "        X_val, y_val = X_tensor[val_idx], y_tensor[val_idx]\n",
        "\n",
        "        for epoch in range(epochs):\n",
        "            model.train()\n",
        "            optimizer.zero_grad()\n",
        "            y_pred = model(X_train)\n",
        "            loss = criterion(y_pred, y_train)\n",
        "            loss.backward()\n",
        "            optimizer.step()\n",
        "\n",
        "        model.eval()\n",
        "        with torch.no_grad():\n",
        "            val_pred = model(X_val)\n",
        "            val_loss = criterion(val_pred, y_val).item()\n",
        "            val_losses.append(val_loss)\n",
        "            print(f\"Fold {fold+1} Validation Loss: {val_loss:.4f}\")\n",
        "\n",
        "    avg_loss = np.mean(val_losses)\n",
        "    print(f\"\\nAverage Validation Loss: {avg_loss:.4f}\")\n",
        "    return val_losses\n",
        "\n",
        "# Run for Variant A\n",
        "print(\"🔹 Variant A (Tanh + Wider Net):\")\n",
        "variant_a_losses = k_fold_train_variant(VariantA, X_tensor, y_tensor)\n",
        "\n",
        "# Run for Variant B\n",
        "print(\"\\n🔸 Variant B (SGD + ReLU + Lower LR):\")\n",
        "variant_b_losses = k_fold_train_variant(VariantB, X_tensor, y_tensor, optimizer_fn=optim.SGD, lr=0.005)\n"
      ],
      "metadata": {
        "colab": {
          "base_uri": "https://localhost:8080/"
        },
        "id": "EXeZmay-tSv-",
        "outputId": "797875cc-0f20-47d9-e563-eed0020a15d9"
      },
      "execution_count": 13,
      "outputs": [
        {
          "output_type": "stream",
          "name": "stdout",
          "text": [
            "🔹 Variant A (Tanh + Wider Net):\n",
            "Fold 1 Validation Loss: 0.2653\n",
            "Fold 2 Validation Loss: 0.2962\n",
            "Fold 3 Validation Loss: 0.3059\n",
            "Fold 4 Validation Loss: 0.2536\n",
            "Fold 5 Validation Loss: 0.2421\n",
            "\n",
            "Average Validation Loss: 0.2726\n",
            "\n",
            "🔸 Variant B (SGD + ReLU + Lower LR):\n",
            "Fold 1 Validation Loss: 0.7045\n",
            "Fold 2 Validation Loss: 0.6515\n",
            "Fold 3 Validation Loss: 0.6389\n",
            "Fold 4 Validation Loss: 0.6182\n",
            "Fold 5 Validation Loss: 0.6806\n",
            "\n",
            "Average Validation Loss: 0.6587\n"
          ]
        }
      ]
    },
    {
      "cell_type": "markdown",
      "source": [
        "In Variant A, I replaced ReLU with Tanh and used wider layers. This model performed better, with a lower average validation loss of 0.2726, suggesting Tanh helped the model converge more smoothly.\n",
        "\n",
        "In Variant B, I switched the optimizer from Adam to SGD with a lower learning rate. This led to a higher loss of 0.6587, showing that optimizer choice has a major impact, and Adam was more effective here.\n"
      ],
      "metadata": {
        "id": "aDt-uoHRuXWa"
      }
    },
    {
      "cell_type": "code",
      "source": [
        "from sklearn.linear_model import LogisticRegression\n",
        "from sklearn.model_selection import cross_val_score\n",
        "from scipy.stats import ttest_rel\n",
        "\n",
        "# Step 5.1: Logistic Regression with 5-fold CV (accuracy)\n",
        "log_reg = LogisticRegression()\n",
        "log_reg_scores = cross_val_score(log_reg, X_scaled, y, cv=5, scoring='accuracy')\n",
        "print(\"Logistic Regression Accuracy Scores:\", log_reg_scores)\n",
        "print(\"Logistic Regression Mean Accuracy:\", log_reg_scores.mean())\n",
        "\n",
        "# Step 5.2: DNN Accuracy using same k-fold logic\n",
        "def k_fold_dnn_accuracy(model_class, X_tensor, y_tensor, k=5, epochs=100, lr=0.01):\n",
        "    kf = KFold(n_splits=k, shuffle=True, random_state=42)\n",
        "    accuracies = []\n",
        "\n",
        "    for train_idx, val_idx in kf.split(X_tensor):\n",
        "        model = model_class()\n",
        "        optimizer = optim.Adam(model.parameters(), lr=lr)\n",
        "        criterion = nn.BCELoss()\n",
        "\n",
        "        X_train, y_train = X_tensor[train_idx], y_tensor[train_idx]\n",
        "        X_val, y_val = X_tensor[val_idx], y_tensor[val_idx]\n",
        "\n",
        "        for _ in range(epochs):\n",
        "            model.train()\n",
        "            optimizer.zero_grad()\n",
        "            y_pred = model(X_train)\n",
        "            loss = criterion(y_pred, y_train)\n",
        "            loss.backward()\n",
        "            optimizer.step()\n",
        "\n",
        "        # Accuracy on validation set\n",
        "        model.eval()\n",
        "        with torch.no_grad():\n",
        "            preds = (model(X_val) > 0.5).float()\n",
        "            acc = (preds == y_val).float().mean().item()\n",
        "            accuracies.append(acc)\n",
        "\n",
        "    return np.array(accuracies)\n",
        "\n",
        "# Step 5.3: Run DNN accuracy comparison\n",
        "dnn_acc = k_fold_dnn_accuracy(BinaryClassifier, X_tensor, y_tensor)\n",
        "print(\"DNN Accuracy Scores:\", dnn_acc)\n",
        "print(\"DNN Mean Accuracy:\", dnn_acc.mean())\n",
        "\n",
        "# Step 5.4: Hypothesis test (Paired t-test)\n",
        "t_stat, p_val = ttest_rel(dnn_acc, log_reg_scores)\n",
        "print(f\"\\nT-statistic: {t_stat:.4f}\")\n",
        "print(f\"P-value: {p_val:.4f}\")\n"
      ],
      "metadata": {
        "colab": {
          "base_uri": "https://localhost:8080/"
        },
        "id": "bPf6_9fAu9Na",
        "outputId": "48a7a017-9c8a-4cfd-82de-b7e75d94580f"
      },
      "execution_count": 14,
      "outputs": [
        {
          "output_type": "stream",
          "name": "stdout",
          "text": [
            "Logistic Regression Accuracy Scores: [0.89   0.8825 0.92   0.875  0.88  ]\n",
            "Logistic Regression Mean Accuracy: 0.8895\n",
            "DNN Accuracy Scores: [0.89999998 0.88       0.875      0.89499998 0.88999999]\n",
            "DNN Mean Accuracy: 0.8879999876022339\n",
            "\n",
            "T-statistic: -0.1311\n",
            "P-value: 0.9021\n"
          ]
        }
      ]
    },
    {
      "cell_type": "markdown",
      "source": [
        "The DNN achieved a mean accuracy of 0.8880, while logistic regression achieved 0.8895.\n",
        "A paired t-test gave a p-value of 0.9021, indicating that the difference is not statistically significant at the 0.05 level."
      ],
      "metadata": {
        "id": "IEwf8Vy6vm4q"
      }
    }
  ]
}