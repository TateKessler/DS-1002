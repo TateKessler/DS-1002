{
  "nbformat": 4,
  "nbformat_minor": 0,
  "metadata": {
    "colab": {
      "provenance": [],
      "name": "HW7 3/24/24",
      "mount_file_id": "1AsINA1TFKaBNKwjtOBMkjt1UQmdExs0E",
      "authorship_tag": "ABX9TyNgbcnRewOZleLKUxhHF5b5",
      "include_colab_link": true
    },
    "kernelspec": {
      "name": "python3",
      "display_name": "Python 3"
    },
    "language_info": {
      "name": "python"
    }
  },
  "cells": [
    {
      "cell_type": "markdown",
      "metadata": {
        "id": "view-in-github",
        "colab_type": "text"
      },
      "source": [
        "<a href=\"https://colab.research.google.com/github/TateKessler/DS-1002/blob/main/HW7_3_24_24.ipynb\" target=\"_parent\"><img src=\"https://colab.research.google.com/assets/colab-badge.svg\" alt=\"Open In Colab\"/></a>"
      ]
    },
    {
      "cell_type": "markdown",
      "source": [
        "Collaborators: Tate Kessler, Nate Woods, Angus Leone"
      ],
      "metadata": {
        "id": "yha_dv8f53FI"
      }
    },
    {
      "cell_type": "code",
      "execution_count": null,
      "metadata": {
        "colab": {
          "base_uri": "https://localhost:8080/"
        },
        "id": "90QWBhgqeg1z",
        "outputId": "ac70d6a7-a399-45b6-f756-86543ba4e8d2"
      },
      "outputs": [
        {
          "output_type": "stream",
          "name": "stdout",
          "text": [
            "     duration  station_A_id  \\\n",
            "0  12 minutes            81   \n",
            "1  24 minutes             3   \n",
            "2   8 minutes            67   \n",
            "3   4 minutes            16   \n",
            "4  11 minutes            22   \n",
            "\n",
            "                                      station_A_name  station_B_id  \\\n",
            "0                                 Berry St at 4th St           323   \n",
            "1       Powell St BART Station (Market St at 4th St)           118   \n",
            "2  San Francisco Caltrain Station 2  (Townsend St...            23   \n",
            "3                            Steuart St at Market St            28   \n",
            "4                              Howard St at Beale St           350   \n",
            "\n",
            "                    station_B_name  bike_id  user_type  user_birth_year  \\\n",
            "0               Broadway at Kearny     5480          2             1959   \n",
            "1  Eureka Valley Recreation Center     5193          2             1965   \n",
            "2    The Embarcadero at Steuart St     3652          3             1993   \n",
            "3     The Embarcadero at Bryant St     1883          1             1979   \n",
            "4             8th St at Brannan St     4626          2             1994   \n",
            "\n",
            "  user_gender  tire_size  \n",
            "0        Male         26  \n",
            "1        Male         27  \n",
            "2        Male         29  \n",
            "3        Male         26  \n",
            "4        Male         27  \n"
          ]
        }
      ],
      "source": [
        "import pandas as pd\n",
        "df = pd.read_csv('/content/ride_sharing.csv')\n",
        "print(df.head())"
      ]
    },
    {
      "cell_type": "code",
      "source": [
        "num_rows, num_cols = df.shape\n",
        "print(\"Number of rows:\", num_rows)\n",
        "print(\"Number of columns:\", num_cols)\n",
        "\n"
      ],
      "metadata": {
        "colab": {
          "base_uri": "https://localhost:8080/"
        },
        "id": "NC1I58dtrV54",
        "outputId": "46289ae6-17be-402f-b8f9-d8ed66304aa4"
      },
      "execution_count": null,
      "outputs": [
        {
          "output_type": "stream",
          "name": "stdout",
          "text": [
            "Number of rows: 25760\n",
            "Number of columns: 10\n"
          ]
        }
      ]
    },
    {
      "cell_type": "code",
      "source": [
        "# The first column, \"duration\" is seen as a string.\n",
        "# Using two snippets of code, clean this column up so that\n",
        "# is now an integer (int64)\n",
        "df = df[pd.to_numeric(df['duration'], errors='coerce').notna()]\n",
        "df['duration'] = df['duration'].astype(int)\n",
        "\n",
        "df['duration'] = pd.to_numeric(df['duration'], errors='coerce')\n",
        "df['duration'] = df['duration'].astype('Int64')"
      ],
      "metadata": {
        "id": "PB8Vk9rhsa0K"
      },
      "execution_count": null,
      "outputs": []
    },
    {
      "cell_type": "code",
      "source": [
        "print(df.dtypes)"
      ],
      "metadata": {
        "colab": {
          "base_uri": "https://localhost:8080/"
        },
        "id": "s1epYOLqt_Lm",
        "outputId": "f33ab5c2-a666-43dc-b328-132d57725664"
      },
      "execution_count": null,
      "outputs": [
        {
          "output_type": "stream",
          "name": "stdout",
          "text": [
            "duration            Int64\n",
            "station_A_id        int64\n",
            "station_A_name     object\n",
            "station_B_id        int64\n",
            "station_B_name     object\n",
            "bike_id             int64\n",
            "user_type           int64\n",
            "user_birth_year     int64\n",
            "user_gender        object\n",
            "tire_size           int64\n",
            "dtype: object\n"
          ]
        }
      ]
    },
    {
      "cell_type": "code",
      "source": [
        "# Show the min and max values of ride durations (the shortest and longest rides)\n",
        "min_duration = df['duration'].min()\n",
        "max_duration = df['duration'].max()\n",
        "\n",
        "print(\"Shortest ride duration:\", min_duration)\n",
        "print(\"Longest ride duration:\", max_duration)"
      ],
      "metadata": {
        "colab": {
          "base_uri": "https://localhost:8080/"
        },
        "id": "CgU2OIZyuFlw",
        "outputId": "b2060e0d-be9c-4e70-bc42-648b4cdd9c42"
      },
      "execution_count": null,
      "outputs": [
        {
          "output_type": "stream",
          "name": "stdout",
          "text": [
            "Shortest ride duration: 1\n",
            "Longest ride duration: 1372\n"
          ]
        }
      ]
    },
    {
      "cell_type": "code",
      "source": [
        "\n",
        "df['duration'] = pd.to_numeric(df['duration'], errors='coerce')\n",
        "# I cannot get it to work with .query\n",
        "df_short_rides = df[df['duration'] <= 60]\n",
        "\n",
        "# Display the first few rows of the new DataFrame to verify the operation\n",
        "print(df_short_rides.head())\n",
        "\n"
      ],
      "metadata": {
        "colab": {
          "base_uri": "https://localhost:8080/"
        },
        "id": "Fh3_nhMyvdVv",
        "outputId": "fd023ea1-4949-44b3-e18f-7055e8ac72eb"
      },
      "execution_count": null,
      "outputs": [
        {
          "output_type": "stream",
          "name": "stdout",
          "text": [
            "   duration  station_A_id                                     station_A_name  \\\n",
            "0        12            81                                 Berry St at 4th St   \n",
            "1        24             3       Powell St BART Station (Market St at 4th St)   \n",
            "2         8            67  San Francisco Caltrain Station 2  (Townsend St...   \n",
            "3         4            16                            Steuart St at Market St   \n",
            "4        11            22                              Howard St at Beale St   \n",
            "\n",
            "   station_B_id                   station_B_name  bike_id  user_type  \\\n",
            "0           323               Broadway at Kearny     5480          2   \n",
            "1           118  Eureka Valley Recreation Center     5193          2   \n",
            "2            23    The Embarcadero at Steuart St     3652          3   \n",
            "3            28     The Embarcadero at Bryant St     1883          1   \n",
            "4           350             8th St at Brannan St     4626          2   \n",
            "\n",
            "   user_birth_year user_gender  tire_size  \n",
            "0             1959        Male         26  \n",
            "1             1965        Male         27  \n",
            "2             1993        Male         29  \n",
            "3             1979        Male         26  \n",
            "4             1994        Male         27  \n"
          ]
        }
      ]
    },
    {
      "cell_type": "code",
      "source": [
        "min_duration = df_short_rides['duration'].min()\n",
        "max_duration = df_short_rides['duration'].max()\n",
        "\n",
        "# Print the minimum and maximum durations\n",
        "print(\"Minimum duration:\", min_duration, \"minutes\")\n",
        "print(\"Maximum duration:\", max_duration, \"minutes\")\n"
      ],
      "metadata": {
        "colab": {
          "base_uri": "https://localhost:8080/"
        },
        "id": "y3asWHVAy8fM",
        "outputId": "8cf2eedd-60be-4c4e-a957-3ec9e94e80ee"
      },
      "execution_count": null,
      "outputs": [
        {
          "output_type": "stream",
          "name": "stdout",
          "text": [
            "Minimum duration: 1 minutes\n",
            "Maximum duration: 60 minutes\n"
          ]
        }
      ]
    },
    {
      "cell_type": "code",
      "source": [
        "# Filter the df_short_rides DataFrame to include only records with a tire_size of 26\n",
        "df_short_rides_26 = df_short_rides[df_short_rides['tire_size'] == 26]\n",
        "\n",
        "# Display the first few rows of the updated DataFrame to verify the filter\n",
        "print(df_short_rides_26.head())"
      ],
      "metadata": {
        "colab": {
          "base_uri": "https://localhost:8080/"
        },
        "id": "XPIZpNp8zDof",
        "outputId": "d4bc020b-19fa-43a6-9dd2-aefabf2d0049"
      },
      "execution_count": null,
      "outputs": [
        {
          "output_type": "stream",
          "name": "stdout",
          "text": [
            "    duration  station_A_id                                     station_A_name  \\\n",
            "0         12            81                                 Berry St at 4th St   \n",
            "3          4            16                            Steuart St at Market St   \n",
            "6         16            67  San Francisco Caltrain Station 2  (Townsend St...   \n",
            "9          5            30     San Francisco Caltrain (Townsend St at 4th St)   \n",
            "12         7             3       Powell St BART Station (Market St at 4th St)   \n",
            "\n",
            "    station_B_id                station_B_name  bike_id  user_type  \\\n",
            "0            323            Broadway at Kearny     5480          2   \n",
            "3             28  The Embarcadero at Bryant St     1883          1   \n",
            "6            107         17th St at Dolores St     1035          2   \n",
            "9             62   Victoria Manalo Draves Park      333          1   \n",
            "12            27       Beale St at Harrison St     1863          3   \n",
            "\n",
            "    user_birth_year user_gender  tire_size  \n",
            "0              1959        Male         26  \n",
            "3              1979        Male         26  \n",
            "6              1981        Male         26  \n",
            "9              1994        Male         26  \n",
            "12             1998        Male         26  \n"
          ]
        }
      ]
    },
    {
      "cell_type": "code",
      "source": [
        "# Filter the df_short_rides_26 DataFrame for FEMALE riders\n",
        "female_riders_count = df_short_rides_26[df_short_rides_26['user_gender'] == 'FEMALE'].shape[0]\n",
        "\n",
        "# Print the count of FEMALE riders\n",
        "print(f\"Count of FEMALE riders with 26-inch wheeled rental bikes for rentals of one hour or less: {female_riders_count}\")\n"
      ],
      "metadata": {
        "colab": {
          "base_uri": "https://localhost:8080/"
        },
        "id": "TcbFTYTYzW28",
        "outputId": "6731a10d-60e7-493b-8b14-8a34ae403b9e"
      },
      "execution_count": null,
      "outputs": [
        {
          "output_type": "stream",
          "name": "stdout",
          "text": [
            "Count of FEMALE riders with 26-inch wheeled rental bikes for rentals of one hour or less: 0\n"
          ]
        }
      ]
    },
    {
      "cell_type": "code",
      "source": [
        "import pandas as pd\n",
        "\n",
        "# Load the data into a DataFrame\n",
        "df = pd.read_csv('more-messy-data.csv')\n",
        "\n",
        "# Display the number of duplicate rows\n",
        "duplicate_rows = df.duplicated().sum()\n",
        "print(f'Number of duplicate rows: {duplicate_rows}')\n"
      ],
      "metadata": {
        "colab": {
          "base_uri": "https://localhost:8080/"
        },
        "id": "XKR8Hkbv0ZkX",
        "outputId": "ecd8eae4-5b04-4978-9580-f8da15c00c08"
      },
      "execution_count": null,
      "outputs": [
        {
          "output_type": "stream",
          "name": "stdout",
          "text": [
            "Number of duplicate rows: 287\n"
          ]
        }
      ]
    },
    {
      "cell_type": "code",
      "source": [
        "# Remove duplicate rows\n",
        "df_cleaned = df.drop_duplicates()\n",
        "\n",
        "\n"
      ],
      "metadata": {
        "id": "M-dNcQ4I3G8B"
      },
      "execution_count": null,
      "outputs": []
    },
    {
      "cell_type": "code",
      "source": [
        "# Ensure the columns are of a numeric type\n",
        "df_cleaned[columns_to_update] = df_cleaned[columns_to_update].apply(pd.to_numeric, errors='coerce')\n",
        "\n",
        "# Update NaN values in each column with the column mean, ensuring numerical operations\n",
        "for column in columns_to_update:\n",
        "    if df_cleaned[column].dtype.kind in 'biufc':  # Check if the column is numeric\n",
        "        mean_value = df_cleaned[column].mean()  # Calculate the mean\n",
        "        df_cleaned[column] = df_cleaned[column].fillna(mean_value)  # Fill NaNs with the mean\n"
      ],
      "metadata": {
        "colab": {
          "base_uri": "https://localhost:8080/"
        },
        "id": "wVVIG7eP3QJW",
        "outputId": "caa1cd4d-1b86-4a79-99f3-9950138c6e29"
      },
      "execution_count": null,
      "outputs": [
        {
          "output_type": "stream",
          "name": "stderr",
          "text": [
            "<ipython-input-45-273f95e57661>:2: SettingWithCopyWarning: \n",
            "A value is trying to be set on a copy of a slice from a DataFrame.\n",
            "Try using .loc[row_indexer,col_indexer] = value instead\n",
            "\n",
            "See the caveats in the documentation: https://pandas.pydata.org/pandas-docs/stable/user_guide/indexing.html#returning-a-view-versus-a-copy\n",
            "  df_cleaned[columns_to_update] = df_cleaned[columns_to_update].apply(pd.to_numeric, errors='coerce')\n",
            "<ipython-input-45-273f95e57661>:8: SettingWithCopyWarning: \n",
            "A value is trying to be set on a copy of a slice from a DataFrame.\n",
            "Try using .loc[row_indexer,col_indexer] = value instead\n",
            "\n",
            "See the caveats in the documentation: https://pandas.pydata.org/pandas-docs/stable/user_guide/indexing.html#returning-a-view-versus-a-copy\n",
            "  df_cleaned[column] = df_cleaned[column].fillna(mean_value)  # Fill NaNs with the mean\n"
          ]
        }
      ]
    },
    {
      "cell_type": "code",
      "source": [
        "# Remove any rows with at least one NaN value\n",
        "df_cleaned = df_cleaned.dropna()\n",
        "\n"
      ],
      "metadata": {
        "id": "rEskxfvg4I0G"
      },
      "execution_count": null,
      "outputs": []
    },
    {
      "cell_type": "code",
      "source": [
        "# Count the number of unique species\n",
        "num_species = df_cleaned['species'].nunique()\n",
        "\n",
        "print(f'There are {num_species} different species.')\n"
      ],
      "metadata": {
        "colab": {
          "base_uri": "https://localhost:8080/"
        },
        "id": "AcEsDWvd4RJf",
        "outputId": "0c628387-c333-4ddc-8299-cdfbabec40b8"
      },
      "execution_count": null,
      "outputs": [
        {
          "output_type": "stream",
          "name": "stdout",
          "text": [
            "There are 10 different species.\n"
          ]
        }
      ]
    },
    {
      "cell_type": "code",
      "source": [
        "# Define a mapping for species variations to the desired three categories\n",
        "species_mapping = {\n",
        "    'Setosa': 'Setosa',\n",
        "    'setosa': 'Setosa',\n",
        "    # Add other variations for Setosa if any\n",
        "\n",
        "    'Versicolour': 'Versicolor',\n",
        "    'versicolor': 'Versicolor',\n",
        "    # Add other variations for Versicolor if any\n",
        "\n",
        "    'Virginica': 'Virginica',\n",
        "    'virginica': 'Virginica',\n",
        "    # Add other variations for Virginica if any\n",
        "}\n",
        "\n",
        "df_cleaned['species'] = df_cleaned['species'].replace(species_mapping)\n",
        "\n",
        "print(\"Unique species after cleanup:\", df_cleaned['species'].unique())\n",
        "\n",
        "\n"
      ],
      "metadata": {
        "colab": {
          "base_uri": "https://localhost:8080/"
        },
        "id": "RGkaVEQz4af7",
        "outputId": "a45a753b-04cd-4fa5-d3fb-d48e1c0338c1"
      },
      "execution_count": null,
      "outputs": [
        {
          "output_type": "stream",
          "name": "stdout",
          "text": [
            "Unique species after cleanup: ['Virginica' 'Setosa' 'Versicolor' 'setoso' 'Viginica' 'Virginia'\n",
            " 'Setosan']\n"
          ]
        }
      ]
    }
  ]
}