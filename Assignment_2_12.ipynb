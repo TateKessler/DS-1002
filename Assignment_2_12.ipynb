{
  "nbformat": 4,
  "nbformat_minor": 0,
  "metadata": {
    "colab": {
      "provenance": [],
      "authorship_tag": "ABX9TyO9QwPxKV9nJnNb+E2LWdEx",
      "include_colab_link": true
    },
    "kernelspec": {
      "name": "python3",
      "display_name": "Python 3"
    },
    "language_info": {
      "name": "python"
    }
  },
  "cells": [
    {
      "cell_type": "markdown",
      "metadata": {
        "id": "view-in-github",
        "colab_type": "text"
      },
      "source": [
        "<a href=\"https://colab.research.google.com/github/TateKessler/DS-1002/blob/main/Assignment_2_12.ipynb\" target=\"_parent\"><img src=\"https://colab.research.google.com/assets/colab-badge.svg\" alt=\"Open In Colab\"/></a>"
      ]
    },
    {
      "cell_type": "code",
      "execution_count": null,
      "metadata": {
        "colab": {
          "base_uri": "https://localhost:8080/"
        },
        "id": "wdRcB3MDI0Op",
        "outputId": "9ab1bbf9-2d98-403c-ddd3-4d48cc994575"
      },
      "outputs": [
        {
          "output_type": "stream",
          "name": "stdout",
          "text": [
            "Welcome to the Number Guessing Game!\n",
            "I have selected a number between 0 and 100. Try to guess it!\n"
          ]
        }
      ],
      "source": [
        "import random\n",
        "\n",
        "def play_guessing_game():\n",
        "    print(\"Welcome to the Number Guessing Game!\")\n",
        "    print(\"I have selected a number between 0 and 100. Try to guess it!\")\n",
        "\n",
        "    # Generate a random number between 0 and 100\n",
        "    target_number = random.randint(0, 100)\n",
        "\n",
        "    # Initialize guess count\n",
        "    guess_count = 0\n",
        "\n",
        "    while True:\n",
        "        guess = input(\"Enter your guess (between 0 and 100): \")\n",
        "\n",
        "        # Check if the input is a valid integer\n",
        "        if guess.isdigit():\n",
        "            guess = int(guess)\n",
        "\n",
        "            # Check if the guess is within the valid range\n",
        "            if 0 <= guess <= 100:\n",
        "                guess_count += 1\n",
        "\n",
        "                # Check if the guess is correct\n",
        "                if guess == target_number:\n",
        "                    print(f\"You got it! It took you {guess_count} guesses.\")\n",
        "                    break\n",
        "                elif guess < target_number:\n",
        "                    print(\"Too low! Try again.\")\n",
        "                else:\n",
        "                    print(\"Too high! Try again.\")\n",
        "            else:\n",
        "                print(\"Please enter a number between 0 and 100.\")\n",
        "        else:\n",
        "            print(\"Please enter a valid integer.\")\n",
        "\n",
        "# Start the game\n",
        "play_guessing_game()"
      ]
    }
  ]
}